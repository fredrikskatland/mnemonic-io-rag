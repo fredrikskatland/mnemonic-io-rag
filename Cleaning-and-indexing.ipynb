{
 "cells": [
  {
   "cell_type": "code",
   "execution_count": 3,
   "metadata": {},
   "outputs": [],
   "source": [
    "# load data from json\n",
    "import json\n",
    "with open('./mnemonicscraper/mnemonicscraper/output.json') as json_file:\n",
    "    data = json.load(json_file)"
   ]
  },
  {
   "cell_type": "code",
   "execution_count": 4,
   "metadata": {},
   "outputs": [
    {
     "data": {
      "text/plain": [
       "{'title': 'Marketing Manager Benelux',\n",
       " 'ingress': 'We are looking for a Marketing Manger who wants to join our Benelux expansion',\n",
       " 'content': 'mnemonic is a well-established and acknowledged leader in the field of cybersecurity. We were established in 2000, and we’ve grown in a healthy rate ever since. We’re now more than 350 security experts and present in five European countries.As a global provider of cybersecurity services, mnemonic is widely recognised for our world-class Managed Detection and Response Services (MDR). With our flagship service – Argus Managed Defence – mnemonic is helping companies across Europe and the globe to protect their assets against increasingly advanced cybersecurity threats.With a loyal customer base across the Scandinavian region, mnemonic is now expanding its MDR service across the Benelux region, and the Netherlands is seen as a key region for strategic growth. We see an increasing demand for our service, and in 2023 alone we quadrupled our revenue in the region.The role will be responsible for further developing mnemonic\\'s brand in the Benelux region and increasing mnemonic’s footprint and visibility. You will work closely with the Marketing Director (reporting directly) and the local Benelux team. You will be supported with great reference cases (both local and International), internal knowledge, and industry leading expertise and training. Our Marketing team works internationally and you will be focusing on the Benelux market. Together with your Benelux colleagues you will work close with the local Sales team but also having colleagues in bid management, presales and security specialists.The candidate must be willing to travel in the Benelux region and occasionally travel abroad (Oslo, Norway) to receive training, attend conferences and social events.We have an office in the Helix building in Utrecht, the Netherlands. Here you will have your own desk and workplace. Email us at  and write \"Marketing Benelux\" in the subject field. Add some text about why you\\'re right for the job, and your CV.If you have publications or projects you have worked on that you think represent your technical knowledge or ability to communicate, please attach or refer to these.We use Semac AS for background checks in our recruitment process.',\n",
       " 'url': 'https://www.mnemonic.io/careers/open-positions/marketing-manager-benelux/',\n",
       " 'category': 'careers',\n",
       " 'subcategory': 'open-positions'}"
      ]
     },
     "execution_count": 4,
     "metadata": {},
     "output_type": "execute_result"
    }
   ],
   "source": [
    "data[0]"
   ]
  },
  {
   "cell_type": "code",
   "execution_count": 5,
   "metadata": {},
   "outputs": [],
   "source": [
    "page_content = []\n",
    "metadatas = []\n",
    "\n",
    "for i in data:\n",
    "    content = f'{i[\"title\"]} \\n\\n {i[\"ingress\"]} \\n\\n {i[\"content\"]} \\n\\n {i[\"url\"]}'\n",
    "    metadata = {\n",
    "        \"title\": i[\"title\"],\n",
    "        \"source\": i[\"url\"],\n",
    "        \"category\": i[\"category\"],\n",
    "        \"subcategory\": i[\"subcategory\"],\n",
    "    }\n",
    "    page_content.append(content)\n",
    "    metadatas.append(metadata)\n",
    "    "
   ]
  },
  {
   "cell_type": "code",
   "execution_count": 10,
   "metadata": {},
   "outputs": [
    {
     "name": "stdout",
     "output_type": "stream",
     "text": [
      "Advisory: Critical RCE vulnerability in Apache Struts (CVE-2023-50164) \n",
      "\n",
      " Critical vulnerability found in the widely used development framework for creating enterprise-ready Java web applications Apache Struts \n",
      "\n",
      " On December 7th, 2023, Apache released an update that addresses a critical Remote Code Execution (RCE) vulnerability in Struts. The vulnerability is tracked as CVE-2023-50164 and has Apache Struts is a versatile framework for developing Java web applications, known for its efficiency in creating scalable and easily maintainable solutions. It follows a Model-View-Controller (MVC) architecture, and is widely utilised by various vendors in their product and services portfolio, and by organisations as in-house built applications.The vulnerability can be exploited by an attacker by manipulating file upload parameters, potentially leading to the upload of malicious files and subsequent server-side detonation (e.g. JSP files).At this time, mnemonic's assessment is that the vulnerability poses a medium-to-high threat for organisations for the following reasons:We consider the following factors to lower the risk level at this stage:We emphasise that this is a developing vulnerability and new information is likely to impact the threat level over the coming weeks.The following versions of the framework are vulnerable:Vendors are currently assessing their exposure to this vulnerability, such as:The vulnerability stems from a path traversal issue within file upload parameters of the \"ActionSupport\" class, allowing attackers to upload malicious files and execute arbitrary code on the targeted server. The class exhibits a bug in filename parameter filtering during file uploads, allowing arbitrary file write on a Struts Java server. This capability enables attackers to write server-side rendered files, like JSP files, into a target directory. Upon requesting the file, the JSP payload is executed, resulting in a compromised server.Successful exploitation involves uploading two files in a single POST request via the 'upload.action' action, with the first being benign and the second containing path traversal strings in the 'uploadFileName' parameter, (e.g. \"../../\"). As an example, for a web shell to be successfully deployed, the dropped file (e.g. 'webshell.jsp') must be in a valid route that an attacker can remotely reach, which will vary between implementations. This is likely to encourage vendor-specific research to determine the precise path for dropping a web shell.The exploitation of CVE-2023-50164 involves several preconditions that are dependent on the behaviour and implementation of the application using Apache Struts:mnemonic recommends the following actions:We are continuously monitoring the situation and developing detection logic for our Argus services. \n",
      "\n",
      " https://www.mnemonic.io/resources/blog/advisory-cve-2023-50164-critical-rce-vulnerability-in-apache-struts/\n"
     ]
    }
   ],
   "source": [
    "print(page_content[34])"
   ]
  },
  {
   "cell_type": "code",
   "execution_count": 11,
   "metadata": {},
   "outputs": [],
   "source": [
    "from langchain.schema import Document\n",
    "docs = [Document(page_content=content, metadata=metadata) for content, metadata in zip(page_content, metadatas)]"
   ]
  },
  {
   "cell_type": "code",
   "execution_count": 13,
   "metadata": {},
   "outputs": [],
   "source": [
    "from langchain_openai import OpenAIEmbeddings\n",
    "embeddings_model = OpenAIEmbeddings()"
   ]
  },
  {
   "cell_type": "code",
   "execution_count": 15,
   "metadata": {},
   "outputs": [],
   "source": [
    "# save to disk\n",
    "from langchain_community.vectorstores import Chroma\n",
    "mnemonic_db = Chroma.from_documents(docs, embeddings_model, persist_directory=\"./mnemonic_db\")\n"
   ]
  },
  {
   "cell_type": "code",
   "execution_count": 17,
   "metadata": {},
   "outputs": [
    {
     "data": {
      "text/plain": [
       "[Document(page_content='Data Scientist \\n\\n Do you want to explore the possibilities of large amounts of security data? Join our R&D team! \\n\\n To reduce noise, improve detection and aid security analysts in their work, we need to utilise our data even better. The results will be crucial for defending the digital infrastructures we protect. Your work will be a crucial part of this work. At mnemonic, you will be part of:mnemonic responds to the region’s most serious cyberattacks. We work side by side with Europe’s most important organisations and critical infrastructure to protect them from the cyberattacks they see today, and what they can expect to see tomorrow.At more than 350 employees, we are amongst the largest pure play security companies in Europe, and continue to grow rapidly in Norway and internationally. In addition, we are continually ranked by Great Place to Work as one of Norway’s and Europe’s top workplaces.You will get the opportunity to work with a wide range of tasks, including:You are familiar with:If you feel that you possess several of the qualifications we are looking for, but feel that the profile itself is too narrow,The mnemonic Research & Development (R&D) team works with research projects in Norway, the Nordics and Europe. With more than two decades being engaged in practical research projects with academia, governments and industries, we aim to develop new standards and novel solutions to solve the toughest cybersecurity challenges.This group is placed within the area of Managed Detection & Response, and the research projects are related to infosec and MDR.\\xa0Email us at  and write \"MSS-RD-DS\" in the subject field. Add some text about why you could be the right for the job, and your CV.If you have publications or projects you have worked on that you think represent your technical skills or ability to communicate, please attach or refer to these.We use Semac AS for background checks in our recruitment process. Security clearance is a requirement. \\n\\n https://www.mnemonic.io/careers/open-positions/data-scientist/', metadata={'category': 'careers', 'source': 'https://www.mnemonic.io/careers/open-positions/data-scientist/', 'subcategory': 'open-positions', 'title': 'Data Scientist'}),\n",
       " Document(page_content='Data Engineer – Java Developer \\n\\n We are looking for a skilled Java Developer \\n\\n We are looking for a skilled Java Developer for our Argus Distributed Systems team.We encourage both experienced candidates, and candidates with strong commitment and relevant skills to apply.mnemonic responds to the region’s most serious cyberattacks. We work side by side with Europe’s most important organisations and critical infrastructure to protect them from the cyberattacks they see today, and what they can expect to see tomorrow.At more than 350 employees, we are amongst the largest pure play security companies in Europe, and continue to grow rapidly in Norway and internationally. In addition, we are continually ranked by Great Place to Work as one of Norway’s and Europe’s top workplaces.As part of our Argus distributed system team, you will be developing and maintaining systems that serve security incident analysis pipelines for real-time incident responses purposes. Argus distributed systems are running over 400 servers across the globe. Currently in total processing over 55 billion security events daily. Each system integrate with different data sources, depends on customers’ needs.The ideal candidate needs to have Java development experience with production system, either from the private or public sector.The ideal candidate needs to have Java development experience with production system, either from the private or public sector. In addition, we’re looking for someone with familiarity with some of/or willingness to learn the following technologies:As well as experience with some of the following areas and willingness to learn the rest:Email us at  and write \"MSS-Distributed\" in the subject field. Add a text about why you are right for the job, transcript of records and your CV. Include a code project you have worked on that shows us how you work with code.If you have publications or projects you have worked on that you think represent your technical skills or ability to communicate, please attach or refer to these.If you feel like you have many of the qualifications we are looking for, but feel the profile is too narrow,.We use Semac AS for background checks in our recruitment process. It is an advantage if you qualify for a Norwegian security clearance. \\n\\n https://www.mnemonic.io/careers/open-positions/data-engineer-java-developer/', metadata={'category': 'careers', 'source': 'https://www.mnemonic.io/careers/open-positions/data-engineer-java-developer/', 'subcategory': 'open-positions', 'title': 'Data Engineer – Java Developer'}),\n",
       " Document(page_content='Episode 98: Securing AI Models \\n\\n Artificial intelligence (AI) and machine learning (ML) models have already become incorporated into many facets of our lives. In this episode, we discuss what happens if these models are attacked. \\n\\n Artificial intelligence (AI) and machine learning (ML) models have already become incorporated into many facets of our lives. In this episode, we discuss what happens if these models are attacked.How can the models that AI and ML are built upon be attacked? And how can we defend them?Eoin Wickens, Senior Adversarial ML Researcher at HiddenLayer, an organisation doing security for AI and ML, joins Robby to talk about this often overlooked aspect of AI/ML.During the episode, they also discuss the power AI/ML has to augment how we work in security, and the amount of community collaboration within these fields.Eoin also shares what he spends the majority of his time talking to customers about today, and what he believes he will be using most of his time on in the future. \\n\\n https://www.mnemonic.io/resources/podcast/episode-98-securing-ai-models/', metadata={'category': 'resources', 'source': 'https://www.mnemonic.io/resources/podcast/episode-98-securing-ai-models/', 'subcategory': 'podcast', 'title': 'Episode 98: Securing AI Models'}),\n",
       " Document(page_content='Threat Intelligence \\n\\n The mnemonic Threat Intelligence Team tracks new threat developments as they unfold globally and ensures your business is prepared to defend against evolving threats. \\n\\n Threat intelligence has evolved into a big data problem. While there is an enormous amount of threat information available, this is simply raw data that requires significant analysis and refining before it becomes intelligence that can be used to support decision-making.Our approach evaluates the integrity, relevance and timeliness of threat information to filter out the noise and provide you with the actionable intelligence you need to make quick and informed decisions when responding to cyberattacks.This elite team of ethical hackers, threat researchers and incident responders track our global network and actively research new threats as they unfold to ensure our customers are protected against evolving threats. The team is recognised internationally for the quality and precision in their work, with the threat intelligence they produce trusted by law enforcement and CSIRTs globally. \\n\\n https://www.mnemonic.io/solutions/threat-intelligence/', metadata={'category': 'solutions', 'source': 'https://www.mnemonic.io/solutions/threat-intelligence/', 'subcategory': 'threat-intelligence', 'title': 'Threat Intelligence'}),\n",
       " Document(page_content='Episode 108: A student/mentor’s perspective on AI \\n\\n How will AI impact the next generation of people working with computer science? \\n\\n How will AI impact the next generation of people working with computer science?This question is probably relevant for anyone making their way through school now, in all fields of study.\\xa0Without looking for a definite answer, but to help him navigate this question, Robby has invited two people with quite different backgrounds: Richard Stiennon, author of Security Yearbook 2023 and Founder and Chief Research Analyst at IT-Harvest, and High School Junior, Athena Contos.\\xa0Athena was recently visiting colleges, together with her father Brian Contos, a long-time veteran of the mnemonic security podcast. They both noticed a lot of excitement and concern regarding AI amongst those about to embark on their higher education, as well as questions about how AI will impact their choices of schools, majors, careers, and ultimately their future.In this episode, Athena and Richard share their perspectives on AI’s potential in education, the ethics of using AI in this context, and how we can go from combating the use of AI in the classroom to making it a useful tool for learning. \\n\\n https://www.mnemonic.io/resources/podcast/episode-108-a-studentmentors-perspective-on-ai/', metadata={'category': 'resources', 'source': 'https://www.mnemonic.io/resources/podcast/episode-108-a-studentmentors-perspective-on-ai/', 'subcategory': 'podcast', 'title': 'Episode 108: A student/mentor’s perspective on AI'})]"
      ]
     },
     "execution_count": 17,
     "metadata": {},
     "output_type": "execute_result"
    }
   ],
   "source": [
    "mnemonic_db.similarity_search(\"Data Science and machine learning\", k=5)"
   ]
  },
  {
   "cell_type": "code",
   "execution_count": null,
   "metadata": {},
   "outputs": [],
   "source": []
  }
 ],
 "metadata": {
  "kernelspec": {
   "display_name": ".venv",
   "language": "python",
   "name": "python3"
  },
  "language_info": {
   "codemirror_mode": {
    "name": "ipython",
    "version": 3
   },
   "file_extension": ".py",
   "mimetype": "text/x-python",
   "name": "python",
   "nbconvert_exporter": "python",
   "pygments_lexer": "ipython3",
   "version": "3.10.10"
  }
 },
 "nbformat": 4,
 "nbformat_minor": 2
}
