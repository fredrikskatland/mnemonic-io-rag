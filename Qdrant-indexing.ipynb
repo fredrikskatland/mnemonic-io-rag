{
 "cells": [
  {
   "cell_type": "code",
   "execution_count": 1,
   "metadata": {},
   "outputs": [],
   "source": [
    "from langchain.text_splitter import CharacterTextSplitter\n",
    "from langchain_community.document_loaders import TextLoader\n",
    "from langchain_community.vectorstores import Qdrant\n",
    "from langchain_openai import OpenAIEmbeddings\n",
    "from langchain.schema import Document\n",
    "\n",
    "import json\n",
    "import os"
   ]
  },
  {
   "cell_type": "code",
   "execution_count": 2,
   "metadata": {},
   "outputs": [],
   "source": [
    "embedding_function = OpenAIEmbeddings(model=\"text-embedding-3-small\")"
   ]
  },
  {
   "cell_type": "code",
   "execution_count": 3,
   "metadata": {},
   "outputs": [],
   "source": [
    "# load data from json (from scraper)\n",
    "with open('./mnemonicscraper/mnemonicscraper/output.json') as json_file:\n",
    "    data = json.load(json_file)"
   ]
  },
  {
   "cell_type": "code",
   "execution_count": 4,
   "metadata": {},
   "outputs": [],
   "source": [
    "# Create documents suitable for retrieval\n",
    "\n",
    "page_content = []\n",
    "metadatas = []\n",
    "\n",
    "for i in data:\n",
    "    content = f'{i[\"title\"]} \\n\\n {i[\"ingress\"]} \\n\\n {i[\"content\"]} \\n\\n {i[\"url\"]}'\n",
    "    metadata = {\n",
    "        \"title\": i[\"title\"],\n",
    "        \"source\": i[\"url\"],\n",
    "        \"category\": i[\"category\"],\n",
    "        \"subcategory\": i[\"subcategory\"],\n",
    "    }\n",
    "    page_content.append(content)\n",
    "    metadatas.append(metadata)\n",
    "    "
   ]
  },
  {
   "cell_type": "code",
   "execution_count": 5,
   "metadata": {},
   "outputs": [],
   "source": [
    "# Prepare for embedding and indexing\n",
    "docs = [Document(page_content=content, metadata=metadata) for content, metadata in zip(page_content, metadatas)]"
   ]
  },
  {
   "cell_type": "code",
   "execution_count": 9,
   "metadata": {},
   "outputs": [],
   "source": [
    "url = \"https://63c46998-a66f-476a-92b0-39675fe642cc.us-east4-0.gcp.cloud.qdrant.io:6333\"\n",
    "api_key = os.environ['QDRANT_MNEMONIC']\n",
    "qdrant = Qdrant.from_documents(\n",
    "    docs,\n",
    "    embedding_function,\n",
    "    url=url,\n",
    "    prefer_grpc=True,\n",
    "    collection_name=\"mnemonic-io\",\n",
    "    force_recreate=True,\n",
    "    api_key = api_key\n",
    ")"
   ]
  },
  {
   "cell_type": "code",
   "execution_count": null,
   "metadata": {},
   "outputs": [],
   "source": []
  }
 ],
 "metadata": {
  "kernelspec": {
   "display_name": ".venv",
   "language": "python",
   "name": "python3"
  },
  "language_info": {
   "codemirror_mode": {
    "name": "ipython",
    "version": 3
   },
   "file_extension": ".py",
   "mimetype": "text/x-python",
   "name": "python",
   "nbconvert_exporter": "python",
   "pygments_lexer": "ipython3",
   "version": "3.10.10"
  }
 },
 "nbformat": 4,
 "nbformat_minor": 2
}
